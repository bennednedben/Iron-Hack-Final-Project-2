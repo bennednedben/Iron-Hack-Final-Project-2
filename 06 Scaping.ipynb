{
 "cells": [
  {
   "cell_type": "markdown",
   "id": "95c77c31",
   "metadata": {},
   "source": [
    "# Web Scraping"
   ]
  },
  {
   "attachments": {
    "image.png": {
     "image/png": "[encoded data removed]"
    }
   },
   "cell_type": "markdown",
   "id": "ebad2548",
   "metadata": {},
   "source": [
    "![image.png](attachment:image.png)"
   ]
  },
  {
   "cell_type": "code",
   "execution_count": 1,
   "id": "158e553f",
   "metadata": {},
   "outputs": [],
   "source": [
    "# import libraries\n",
    "from bs4 import BeautifulSoup\n",
    "import requests\n",
    "import pandas as pd"
   ]
  },
  {
   "cell_type": "code",
   "execution_count": 2,
   "id": "09289793",
   "metadata": {},
   "outputs": [],
   "source": [
    "# find url and store it in a variable\n",
    "url = 'https://www.dastelefonbuch.de/Postleitzahlen/Berlin'"
   ]
  },
  {
   "cell_type": "code",
   "execution_count": 3,
   "id": "8e71f507",
   "metadata": {},
   "outputs": [
    {
     "data": {
      "text/plain": [
       "200"
      ]
     },
     "execution_count": 3,
     "metadata": {},
     "output_type": "execute_result"
    }
   ],
   "source": [
    "# download html with a get request\n",
    "response = requests.get(url)\n",
    "response.status_code # 200 status code means OK!"
   ]
  },
  {
   "cell_type": "code",
   "execution_count": 4,
   "id": "fe268403",
   "metadata": {},
   "outputs": [],
   "source": [
    "# parse html (create the 'soup')\n",
    "soup = BeautifulSoup(response.content, \"html.parser\")"
   ]
  },
  {
   "cell_type": "code",
   "execution_count": 5,
   "id": "858df5bf",
   "metadata": {},
   "outputs": [
    {
     "data": {
      "text/plain": [
       "'10115'"
      ]
     },
     "execution_count": 5,
     "metadata": {},
     "output_type": "execute_result"
    }
   ],
   "source": [
    "#soup.select(\"#content > table.blockview > plz\")\n",
    "\n",
    "soup.select(\"#content > table.blockview > tbody > tr:nth-child(2) > td.plz\")[0].get_text()"
   ]
  },
  {
   "cell_type": "code",
   "execution_count": 6,
   "id": "2f3398d4",
   "metadata": {},
   "outputs": [],
   "source": [
    "plz = []\n",
    "city = []\n",
    "district = []\n",
    "\n",
    "\n",
    "for i in range(2,192):\n",
    "    plz.append(soup.select(\"#content > table.blockview > tbody > tr:nth-child(\"+str(i)+\") > td.plz\")[0].get_text())\n",
    "    city.append(soup.select(\"#content > table.blockview > tbody > tr:nth-child(\"+str(i)+\") > td.city\")[0].get_text())\n",
    "    district.append(soup.select(\"#content > table.blockview > tbody > tr:nth-child(\"+str(i)+\") > td.district\")[0].get_text())"
   ]
  },
  {
   "cell_type": "code",
   "execution_count": 7,
   "id": "f0fa1571",
   "metadata": {},
   "outputs": [],
   "source": [
    "postal_codes = pd.DataFrame({\"postal_codes\":plz,\"city\":city,\"district\":district})"
   ]
  },
  {
   "cell_type": "code",
   "execution_count": 8,
   "id": "354aa1a1",
   "metadata": {},
   "outputs": [
    {
     "data": {
      "text/html": [
       "<div>\n",
       "<style scoped>\n",
       "    .dataframe tbody tr th:only-of-type {\n",
       "        vertical-align: middle;\n",
       "    }\n",
       "\n",
       "    .dataframe tbody tr th {\n",
       "        vertical-align: top;\n",
       "    }\n",
       "\n",
       "    .dataframe thead th {\n",
       "        text-align: right;\n",
       "    }\n",
       "</style>\n",
       "<table border=\"1\" class=\"dataframe\">\n",
       "  <thead>\n",
       "    <tr style=\"text-align: right;\">\n",
       "      <th></th>\n",
       "      <th>postal_codes</th>\n",
       "      <th>city</th>\n",
       "      <th>district</th>\n",
       "    </tr>\n",
       "  </thead>\n",
       "  <tbody>\n",
       "    <tr>\n",
       "      <th>0</th>\n",
       "      <td>10115</td>\n",
       "      <td>Berlin</td>\n",
       "      <td>Mitte, Wedding</td>\n",
       "    </tr>\n",
       "    <tr>\n",
       "      <th>1</th>\n",
       "      <td>10117</td>\n",
       "      <td>Berlin</td>\n",
       "      <td>Mitte, Tiergarten</td>\n",
       "    </tr>\n",
       "    <tr>\n",
       "      <th>2</th>\n",
       "      <td>10119</td>\n",
       "      <td>Berlin</td>\n",
       "      <td>Mitte, Prenzlauer Berg</td>\n",
       "    </tr>\n",
       "    <tr>\n",
       "      <th>3</th>\n",
       "      <td>10178</td>\n",
       "      <td>Berlin</td>\n",
       "      <td>Mitte</td>\n",
       "    </tr>\n",
       "    <tr>\n",
       "      <th>4</th>\n",
       "      <td>10179</td>\n",
       "      <td>Berlin</td>\n",
       "      <td>Friedrichshain, Kreuzberg, Mitte</td>\n",
       "    </tr>\n",
       "    <tr>\n",
       "      <th>...</th>\n",
       "      <td>...</td>\n",
       "      <td>...</td>\n",
       "      <td>...</td>\n",
       "    </tr>\n",
       "    <tr>\n",
       "      <th>185</th>\n",
       "      <td>14169</td>\n",
       "      <td>Berlin</td>\n",
       "      <td>Dahlem, Lichterfelde, Zehlendorf</td>\n",
       "    </tr>\n",
       "    <tr>\n",
       "      <th>186</th>\n",
       "      <td>14193</td>\n",
       "      <td>Berlin</td>\n",
       "      <td>Dahlem, Grunewald, Schmargendorf, Westend</td>\n",
       "    </tr>\n",
       "    <tr>\n",
       "      <th>187</th>\n",
       "      <td>14195</td>\n",
       "      <td>Berlin</td>\n",
       "      <td>Dahlem, Grunewald, Lichterfelde, Schmargendorf...</td>\n",
       "    </tr>\n",
       "    <tr>\n",
       "      <th>188</th>\n",
       "      <td>14197</td>\n",
       "      <td>Berlin</td>\n",
       "      <td>Friedenau, Schmargendorf, Steglitz, Wilmersdorf</td>\n",
       "    </tr>\n",
       "    <tr>\n",
       "      <th>189</th>\n",
       "      <td>14199</td>\n",
       "      <td>Berlin</td>\n",
       "      <td>Dahlem, Grunewald, Schmargendorf, Wilmersdorf</td>\n",
       "    </tr>\n",
       "  </tbody>\n",
       "</table>\n",
       "<p>190 rows × 3 columns</p>\n",
       "</div>"
      ],
      "text/plain": [
       "    postal_codes    city                                           district\n",
       "0          10115  Berlin                                     Mitte, Wedding\n",
       "1          10117  Berlin                                  Mitte, Tiergarten\n",
       "2          10119  Berlin                             Mitte, Prenzlauer Berg\n",
       "3          10178  Berlin                                              Mitte\n",
       "4          10179  Berlin                   Friedrichshain, Kreuzberg, Mitte\n",
       "..           ...     ...                                                ...\n",
       "185        14169  Berlin                   Dahlem, Lichterfelde, Zehlendorf\n",
       "186        14193  Berlin          Dahlem, Grunewald, Schmargendorf, Westend\n",
       "187        14195  Berlin  Dahlem, Grunewald, Lichterfelde, Schmargendorf...\n",
       "188        14197  Berlin    Friedenau, Schmargendorf, Steglitz, Wilmersdorf\n",
       "189        14199  Berlin      Dahlem, Grunewald, Schmargendorf, Wilmersdorf\n",
       "\n",
       "[190 rows x 3 columns]"
      ]
     },
     "execution_count": 8,
     "metadata": {},
     "output_type": "execute_result"
    }
   ],
   "source": [
    "postal_codes"
   ]
  },
  {
   "cell_type": "code",
   "execution_count": 9,
   "id": "8d12a39a",
   "metadata": {},
   "outputs": [],
   "source": [
    "postal_codes.to_csv('postal.csv')"
   ]
  },
  {
   "cell_type": "code",
   "execution_count": null,
   "id": "d27805f5",
   "metadata": {},
   "outputs": [],
   "source": []
  }
 ],
 "metadata": {
  "kernelspec": {
   "display_name": "Python 3 (ipykernel)",
   "language": "python",
   "name": "python3"
  },
  "language_info": {
   "codemirror_mode": {
    "name": "ipython",
    "version": 3
   },
   "file_extension": ".py",
   "mimetype": "text/x-python",
   "name": "python",
   "nbconvert_exporter": "python",
   "pygments_lexer": "ipython3",
   "version": "3.9.12"
  }
 },
 "nbformat": 4,
 "nbformat_minor": 5
}
